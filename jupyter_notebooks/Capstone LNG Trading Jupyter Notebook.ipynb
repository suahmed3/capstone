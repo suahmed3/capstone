{
  "cells": [
    {
      "cell_type": "markdown",
      "metadata": {
        "id": "0aStgWSO0E0E"
      },
      "source": [
        "# **Capstone Project - LNG Trading**"
      ]
    },
    {
      "cell_type": "markdown",
      "metadata": {
        "id": "1eLEkw5O0ECa"
      },
      "source": [
        "## Objectives\n",
        "\n",
        "The objective of this notebook is to analyse data from the International Energy Agency (IEA) and US Energy Information Administration (EIA) to inform trading strategies for a US-based investment firm with a mandate to invest in energy and commodities, and a stated focus on liquefied natural gas (LNG).\n",
        "\n",
        "## Inputs\n",
        "\n",
        "* Write down which data or information you need to run the notebook \n",
        "import numpy as np\n",
        "import pandas as pd\n",
        "\n",
        "## Outputs\n",
        "\n",
        "* Write here which files, code or artefacts you generate by the end of the notebook \n",
        "\n",
        "## Additional Comments\n",
        "\n",
        "* If you have any additional comments that don't fit in the previous bullets, please state them here. \n",
        "\n"
      ]
    },
    {
      "cell_type": "markdown",
      "metadata": {
        "id": "9uWZXH9LwoQg"
      },
      "source": [
        "---"
      ]
    },
    {
      "cell_type": "markdown",
      "metadata": {
        "id": "cqP-UeN-z3i2"
      },
      "source": [
        "# Change working directory"
      ]
    },
    {
      "cell_type": "markdown",
      "metadata": {},
      "source": [
        "* We are assuming you will store the notebooks in a subfolder, therefore when running the notebook in the editor, you will need to change the working directory"
      ]
    },
    {
      "cell_type": "markdown",
      "metadata": {
        "id": "aOGIGS-uz3i2"
      },
      "source": [
        "We need to change the working directory from its current folder to its parent folder\n",
        "* We access the current directory with os.getcwd()"
      ]
    },
    {
      "cell_type": "code",
      "execution_count": null,
      "metadata": {
        "id": "wZfF_j-Bz3i4",
        "outputId": "66943449-1436-4c3d-85c7-b85f9f78349b"
      },
      "outputs": [],
      "source": [
        "import os\n",
        "current_dir = os.getcwd()\n",
        "current_dir"
      ]
    },
    {
      "cell_type": "markdown",
      "metadata": {
        "id": "9MWW8E7lz3i7"
      },
      "source": [
        "We want to make the parent of the current directory the new current directory\n",
        "* os.path.dirname() gets the parent directory\n",
        "* os.chir() defines the new current directory"
      ]
    },
    {
      "cell_type": "code",
      "execution_count": null,
      "metadata": {
        "id": "TwHsQRWjz3i9",
        "outputId": "86849db3-cd2f-4cc5-ebb8-2d0caafa1a2c"
      },
      "outputs": [],
      "source": [
        "os.chdir(os.path.dirname(current_dir))\n",
        "print(\"You set a new current directory\")"
      ]
    },
    {
      "cell_type": "markdown",
      "metadata": {
        "id": "M_xPk_Ijz3i-"
      },
      "source": [
        "Confirm the new current directory"
      ]
    },
    {
      "cell_type": "code",
      "execution_count": null,
      "metadata": {
        "id": "vz3S-_kjz3jA",
        "outputId": "00b79ae4-75d0-4a96-d193-ac9ef9847ea2"
      },
      "outputs": [],
      "source": [
        "current_dir = os.getcwd()\n",
        "current_dir"
      ]
    },
    {
      "cell_type": "markdown",
      "metadata": {
        "id": "-mavJ8DibrcQ"
      },
      "source": [
        "# Section 1"
      ]
    },
    {
      "cell_type": "markdown",
      "metadata": {},
      "source": [
        "To analyse the international gas flows dataset from the IEA, we must import Numpy and Pandas, and read the csv file. After this, it should be printed."
      ]
    },
    {
      "cell_type": "code",
      "execution_count": 5,
      "metadata": {},
      "outputs": [
        {
          "name": "stdout",
          "output_type": "stream",
          "text": [
            "         Borderpoint                   Exit        Entry  MAXFLOW (Mm3/h)  \\\n",
            "0       Adriatic LNG  Liquefied Natural Gas        Italy              1.1   \n",
            "1            Almeria                Algeria        Spain              1.3   \n",
            "2         Alveringem                Belgium       France              1.1   \n",
            "3         Alveringem                 France      Belgium              1.1   \n",
            "4            Badajoz               Portugal        Spain              0.3   \n",
            "..               ...                    ...          ...              ...   \n",
            "257    Zelzate (GTS)                Belgium  Netherlands              NaN   \n",
            "258    Zelzate (GTS)            Netherlands      Belgium              NaN   \n",
            "259  Zelzate (Zebra)                Belgium  Netherlands              NaN   \n",
            "260         Zevenaar                Germany  Netherlands              NaN   \n",
            "261         Zevenaar            Netherlands      Germany              1.9   \n",
            "\n",
            "     Oct-08  Nov-08  Dec-08  Jan-09  Feb-09  Mar-09  ...  Mar-24  Apr-24  \\\n",
            "0       0.0     0.0     0.0     0.0     0.0     0.0  ...   726.0   821.0   \n",
            "1       0.0     0.0     0.0     0.0     0.0     0.0  ...   780.0   764.0   \n",
            "2       0.0     0.0     0.0     0.0     0.0     0.0  ...     0.0     3.0   \n",
            "3       0.0     0.0     0.0     0.0     0.0     0.0  ...   556.0   429.0   \n",
            "4       0.0     0.0     0.0     0.0    12.0     2.0  ...    26.0    75.0   \n",
            "..      ...     ...     ...     ...     ...     ...  ...     ...     ...   \n",
            "257   157.0   109.0    54.0   102.0    85.0   150.0  ...     0.0     0.0   \n",
            "258     0.0     0.0     0.0     0.0     0.0     0.0  ...     0.0     0.0   \n",
            "259   134.0   111.0   110.0   131.0   113.0   113.0  ...     NaN     NaN   \n",
            "260     0.0     0.0     0.0     0.0     0.0     0.0  ...     NaN     NaN   \n",
            "261     0.0     0.0     0.0     0.0     0.0     0.0  ...   129.0    83.0   \n",
            "\n",
            "     May-24  Jun-24  Jul-24  Aug-24  Sep-24  Oct-24  Nov-24  Dec-24  \n",
            "0     850.0   753.0   718.0   824.0   735.0   749.0   726.0   754.0  \n",
            "1     797.0   784.0   783.0   797.0   614.0   934.0   903.0   887.0  \n",
            "2       9.0     3.0     0.0     0.0     0.0     0.0     0.0     0.0  \n",
            "3     334.0   298.0   225.0   104.0   481.0   596.0   597.0   425.0  \n",
            "4      45.0   133.0   122.0    92.0   120.0    32.0    52.0    29.0  \n",
            "..      ...     ...     ...     ...     ...     ...     ...     ...  \n",
            "257     0.0     0.0     0.0     0.0     0.0     0.0     0.0     0.0  \n",
            "258     0.0     0.0     0.0     0.0     0.0     0.0     0.0     NaN  \n",
            "259     NaN     NaN     NaN     NaN     NaN     NaN     NaN     NaN  \n",
            "260     NaN     NaN     NaN     NaN     NaN     NaN     NaN     NaN  \n",
            "261    83.0   110.0    49.0     0.0    48.0   196.0   309.0   252.0  \n",
            "\n",
            "[262 rows x 199 columns]\n"
          ]
        }
      ],
      "source": [
        "import numpy as np\n",
        "import pandas as pd\n",
        "df = pd.read_csv('/Users/saad/Documents/vscode-projects/capstone/Export_GTF_IEA_202412 - GTF_data.csv')\n",
        "print (df)"
      ]
    },
    {
      "cell_type": "markdown",
      "metadata": {},
      "source": [
        "Now we need to check the attributes of the newly created DataFrame, such as the size, and if there are any missing or duplicate values."
      ]
    },
    {
      "cell_type": "code",
      "execution_count": 15,
      "metadata": {},
      "outputs": [
        {
          "name": "stdout",
          "output_type": "stream",
          "text": [
            "<class 'pandas.core.frame.DataFrame'>\n",
            "RangeIndex: 262 entries, 0 to 261\n",
            "Columns: 199 entries, Borderpoint to Dec-24\n",
            "dtypes: float64(196), object(3)\n",
            "memory usage: 407.5+ KB\n"
          ]
        },
        {
          "data": {
            "text/plain": [
              "Borderpoint         0\n",
              "Exit                0\n",
              "Entry               0\n",
              "MAXFLOW (Mm3/h)    59\n",
              "Oct-08             37\n",
              "                   ..\n",
              "Aug-24             41\n",
              "Sep-24             42\n",
              "Oct-24             38\n",
              "Nov-24             36\n",
              "Dec-24             47\n",
              "Length: 199, dtype: int64"
            ]
          },
          "execution_count": 15,
          "metadata": {},
          "output_type": "execute_result"
        }
      ],
      "source": [
        "df.describe()\n",
        "df.info()\n",
        "df.isnull().sum()\n"
      ]
    },
    {
      "cell_type": "markdown",
      "metadata": {},
      "source": [
        "This dataset has 8 rows and 196 columns, the RangeIndex is 262 entries, the columns have 199 entries, with a borderpoint to Dec-24. Of the data types, there are 196 floats and 3 objects. There are no null values in Borderpoint, Exit, and Entry, the three categorical values, and there are some values of 0 in the numerical variables, which is to be expected. These can be investigated later with visualisation. This includes the 59 entries of N/A in MAXFLOW (Mm3/h).\n",
        "\n",
        "For the purposes of this analysis, I will not analyse Borderpoint, focusing on Exit and Entry to denote countries of origin and destination. I will also not examine MAXFLOW for now as it is absolute volume that is relevant."
      ]
    },
    {
      "cell_type": "markdown",
      "metadata": {
        "id": "ZY3l0-AxO93d"
      },
      "source": [
        "---"
      ]
    },
    {
      "cell_type": "markdown",
      "metadata": {
        "id": "uFQo3ycuO-v6"
      },
      "source": [
        "# Section 2"
      ]
    },
    {
      "cell_type": "markdown",
      "metadata": {},
      "source": [
        "Now I will do some basic visualisations with this dataset in Pandas, starting with a pie chart for total exports in 2024. To do this, I create a DataFrame that adds together all of the monthly numbers for that year, then group by the Exit variable."
      ]
    },
    {
      "cell_type": "code",
      "execution_count": 29,
      "metadata": {},
      "outputs": [
        {
          "ename": "ModuleNotFoundError",
          "evalue": "No module named 'matplotlib'",
          "output_type": "error",
          "traceback": [
            "\u001b[0;31m---------------------------------------------------------------------------\u001b[0m",
            "\u001b[0;31mModuleNotFoundError\u001b[0m                       Traceback (most recent call last)",
            "Cell \u001b[0;32mIn[29], line 1\u001b[0m\n\u001b[0;32m----> 1\u001b[0m \u001b[38;5;28;01mimport\u001b[39;00m \u001b[38;5;21;01mmatplotlib\u001b[39;00m\n\u001b[1;32m      2\u001b[0m df \u001b[38;5;241m=\u001b[39m pd\u001b[38;5;241m.\u001b[39mread_csv(\u001b[38;5;124m'\u001b[39m\u001b[38;5;124m/Users/saad/Documents/vscode-projects/capstone/Export_GTF_IEA_202412 - GTF_data.csv\u001b[39m\u001b[38;5;124m'\u001b[39m)\n\u001b[1;32m      4\u001b[0m df[\u001b[38;5;124m'\u001b[39m\u001b[38;5;124mtotal_exports_2024\u001b[39m\u001b[38;5;124m'\u001b[39m] \u001b[38;5;241m=\u001b[39m df[[\u001b[38;5;124m'\u001b[39m\u001b[38;5;124mJan-24\u001b[39m\u001b[38;5;124m'\u001b[39m, \u001b[38;5;124m'\u001b[39m\u001b[38;5;124mFeb-24\u001b[39m\u001b[38;5;124m'\u001b[39m, \u001b[38;5;124m'\u001b[39m\u001b[38;5;124mMar-24\u001b[39m\u001b[38;5;124m'\u001b[39m, \u001b[38;5;124m'\u001b[39m\u001b[38;5;124mApr-24\u001b[39m\u001b[38;5;124m'\u001b[39m, \u001b[38;5;124m'\u001b[39m\u001b[38;5;124mMay-24\u001b[39m\u001b[38;5;124m'\u001b[39m, \n\u001b[1;32m      5\u001b[0m                                \u001b[38;5;124m'\u001b[39m\u001b[38;5;124mJun-24\u001b[39m\u001b[38;5;124m'\u001b[39m, \u001b[38;5;124m'\u001b[39m\u001b[38;5;124mJul-24\u001b[39m\u001b[38;5;124m'\u001b[39m, \u001b[38;5;124m'\u001b[39m\u001b[38;5;124mAug-24\u001b[39m\u001b[38;5;124m'\u001b[39m, \u001b[38;5;124m'\u001b[39m\u001b[38;5;124mSep-24\u001b[39m\u001b[38;5;124m'\u001b[39m, \u001b[38;5;124m'\u001b[39m\u001b[38;5;124mOct-24\u001b[39m\u001b[38;5;124m'\u001b[39m, \n\u001b[1;32m      6\u001b[0m                                \u001b[38;5;124m'\u001b[39m\u001b[38;5;124mNov-24\u001b[39m\u001b[38;5;124m'\u001b[39m, \u001b[38;5;124m'\u001b[39m\u001b[38;5;124mDec-24\u001b[39m\u001b[38;5;124m'\u001b[39m]]\u001b[38;5;241m.\u001b[39msum(axis\u001b[38;5;241m=\u001b[39m\u001b[38;5;241m1\u001b[39m)\n",
            "\u001b[0;31mModuleNotFoundError\u001b[0m: No module named 'matplotlib'"
          ]
        }
      ],
      "source": [
        "import matplotlib\n",
        "df = pd.read_csv('/Users/saad/Documents/vscode-projects/capstone/Export_GTF_IEA_202412 - GTF_data.csv')\n",
        "\n",
        "df['total_exports_2024'] = df[['Jan-24', 'Feb-24', 'Mar-24', 'Apr-24', 'May-24', \n",
        "                               'Jun-24', 'Jul-24', 'Aug-24', 'Sep-24', 'Oct-24', \n",
        "                               'Nov-24', 'Dec-24']].sum(axis=1)\n",
        "\n",
        "exports_2024 = df.groupby('Exit')['total_exports_2024'].sum()\n",
        "exports_2024.plot(kind='pie', title='Total Gas Exports by Country in 2024', autopct='%1.1f%%')\n"
      ]
    },
    {
      "cell_type": "markdown",
      "metadata": {},
      "source": [
        "---"
      ]
    },
    {
      "cell_type": "markdown",
      "metadata": {},
      "source": [
        "NOTE"
      ]
    },
    {
      "cell_type": "markdown",
      "metadata": {},
      "source": [
        "* You may add as many sections as you want, as long as it supports your project workflow.\n",
        "* All notebook's cells should be run top-down (you can't create a dynamic wherein a given point you need to go back to a previous cell to execute some task, like go back to a previous cell and refresh a variable content)"
      ]
    },
    {
      "cell_type": "markdown",
      "metadata": {},
      "source": [
        "---"
      ]
    },
    {
      "cell_type": "markdown",
      "metadata": {
        "id": "ltNetd085qHf"
      },
      "source": [
        "# Push files to Repo"
      ]
    },
    {
      "cell_type": "markdown",
      "metadata": {},
      "source": [
        "* In cases where you don't need to push files to Repo, you may replace this section with \"Conclusions and Next Steps\" and state your conclusions and next steps."
      ]
    },
    {
      "cell_type": "code",
      "execution_count": null,
      "metadata": {
        "id": "aKlnIozA4eQO",
        "outputId": "fd09bc1f-adb1-4511-f6ce-492a6af570c0"
      },
      "outputs": [],
      "source": [
        "import os\n",
        "try:\n",
        "  # create your folder here\n",
        "  # os.makedirs(name='')\n",
        "except Exception as e:\n",
        "  print(e)\n"
      ]
    }
  ],
  "metadata": {
    "accelerator": "GPU",
    "colab": {
      "name": "Data Practitioner Jupyter Notebook.ipynb",
      "provenance": [],
      "toc_visible": true
    },
    "kernelspec": {
      "display_name": "Python 3",
      "language": "python",
      "name": "python3"
    },
    "language_info": {
      "codemirror_mode": {
        "name": "ipython",
        "version": 3
      },
      "file_extension": ".py",
      "mimetype": "text/x-python",
      "name": "python",
      "nbconvert_exporter": "python",
      "pygments_lexer": "ipython3",
      "version": "3.13.0"
    },
    "orig_nbformat": 2
  },
  "nbformat": 4,
  "nbformat_minor": 2
}
